{
  "nbformat": 4,
  "nbformat_minor": 0,
  "metadata": {
    "colab": {
      "name": "Stack",
      "provenance": [],
      "collapsed_sections": []
    },
    "kernelspec": {
      "name": "python3",
      "display_name": "Python 3"
    }
  },
  "cells": [
    {
      "cell_type": "markdown",
      "metadata": {
        "id": "gFxWHbhS24az",
        "colab_type": "text"
      },
      "source": [
        "## Stack計算)(數量"
      ]
    },
    {
      "cell_type": "markdown",
      "metadata": {
        "id": "jRW5BU6iCIi-",
        "colab_type": "text"
      },
      "source": [
        "## #3"
      ]
    },
    {
      "cell_type": "code",
      "metadata": {
        "id": "o_ugoWrmCIH_",
        "colab_type": "code",
        "outputId": "54c02dc7-12b7-4596-b1c5-f397b03c99de",
        "colab": {
          "base_uri": "https://localhost:8080/",
          "height": 35
        }
      },
      "source": [
        "# 在data中取得'd'的index\n",
        "data = list('abcde')\n",
        "data_index = data.index('d')\n",
        "print(data_index)"
      ],
      "execution_count": 0,
      "outputs": [
        {
          "output_type": "stream",
          "text": [
            "3\n"
          ],
          "name": "stdout"
        }
      ]
    },
    {
      "cell_type": "markdown",
      "metadata": {
        "id": "XLF-TCgpCDjk",
        "colab_type": "text"
      },
      "source": [
        "## #4"
      ]
    },
    {
      "cell_type": "code",
      "metadata": {
        "id": "-DV950NgCGOT",
        "colab_type": "code",
        "colab": {}
      },
      "source": [
        "SELECT Email FROM Merry WHERE Id = 2"
      ],
      "execution_count": 0,
      "outputs": []
    },
    {
      "cell_type": "markdown",
      "metadata": {
        "id": "BXGVvx3tB53Q",
        "colab_type": "text"
      },
      "source": [
        "## #5"
      ]
    },
    {
      "cell_type": "code",
      "metadata": {
        "id": "xBTROCR3B3cV",
        "colab_type": "code",
        "outputId": "2dd5bf1d-ff59-4909-ddcb-655fdd6a2487",
        "colab": {
          "base_uri": "https://localhost:8080/",
          "height": 35
        }
      },
      "source": [
        "import numpy as np\n",
        "\n",
        "input_list = [4, 6, 5, 1, 2, 3 ]\n",
        "# 偶數組成 ls_even\n",
        "# x%2==0 為偶數\n",
        "ls_even = [x for x in input_list if x%2==0 ]\n",
        "# 奇數組成 ls_odd\n",
        "# x%2!=0 為奇數\n",
        "ls_odd = [x for x in input_list if x%2!=0 ]\n",
        "\n",
        "# 合併\n",
        "print(ls_even + ls_odd)"
      ],
      "execution_count": 0,
      "outputs": [
        {
          "output_type": "stream",
          "text": [
            "[4, 6, 2, 5, 1, 3]\n"
          ],
          "name": "stdout"
        }
      ]
    },
    {
      "cell_type": "markdown",
      "metadata": {
        "id": "Yz-sp41XBwCv",
        "colab_type": "text"
      },
      "source": [
        "## #6"
      ]
    },
    {
      "cell_type": "code",
      "metadata": {
        "id": "Gidy9vXhZZeB",
        "colab_type": "code",
        "outputId": "ef9ab557-c4b0-4d23-c3d0-961afde3905a",
        "colab": {
          "base_uri": "https://localhost:8080/",
          "height": 35
        }
      },
      "source": [
        "# 輸入\n",
        "input_str = ')((())))'\n",
        "\n",
        "SYMBOLS = {\n",
        "            '}':'{', \n",
        "            ']':'[', \n",
        "            ')':'('\n",
        "          }\n",
        "# 左括號\n",
        "SYMBOLS_L = SYMBOLS.values()\n",
        "# 右括號\n",
        "SYMBOLS_R = SYMBOLS.keys()\n",
        "\n",
        "def check(s):\n",
        "    stack = []\n",
        "    lonely_list = []\n",
        "    for c in s:\n",
        "        if c in SYMBOLS_L:\n",
        "            # 左括號加入stack尾端\n",
        "            stack.append(c)\n",
        "        elif c in SYMBOLS_R:\n",
        "            # 若左括號與右括號同時存在，\n",
        "            # 則將左括號從Stack移除\n",
        "            if stack and stack[-1] == SYMBOLS[c]:\n",
        "                stack.pop()\n",
        "            else:\n",
        "                # 若沒同時存在，將右括號加入lonely_list\n",
        "                lonely_list.append(c)\n",
        "    # 回傳未成對的左括號&右括號list\n",
        "    return stack,lonely_list\n",
        "\n",
        "stack,lonely = check(input_str)\n",
        "\n",
        "# 結果\n",
        "# 分別計算未成對的左右括號list長度相加\n",
        "print(len(stack)+len(lonely))"
      ],
      "execution_count": 0,
      "outputs": [
        {
          "output_type": "stream",
          "text": [
            "2\n"
          ],
          "name": "stdout"
        }
      ]
    }
  ]
}